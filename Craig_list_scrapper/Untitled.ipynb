{
 "cells": [
  {
   "cell_type": "code",
   "execution_count": 15,
   "metadata": {},
   "outputs": [],
   "source": [
    "from selenium import webdriver\n",
    "from selenium.webdriver.support.ui import WebDriverWait\n",
    "from selenium.webdriver.support import expected_conditions as EC\n",
    "from selenium.webdriver.common.by import By\n",
    "from selenium.common.exceptions import TimeoutException"
   ]
  },
  {
   "cell_type": "code",
   "execution_count": 16,
   "metadata": {},
   "outputs": [],
   "source": [
    "from bs4 import BeautifulSoup as bs\n",
    "import requests"
   ]
  },
  {
   "cell_type": "code",
   "execution_count": 22,
   "metadata": {},
   "outputs": [
    {
     "name": "stdout",
     "output_type": "stream",
     "text": [
      "enter location:miami\n",
      "enter postal:33063\n",
      "enter max_price:100\n",
      "enter radius:10\n"
     ]
    }
   ],
   "source": [
    "city = input(\"enter location:\")\n",
    "postal = input(\"enter postal:\")\n",
    "max_price = input(\"enter max_price:\")\n",
    "radius = input(\"enter radius:\")"
   ]
  },
  {
   "cell_type": "code",
   "execution_count": 23,
   "metadata": {},
   "outputs": [
    {
     "data": {
      "text/plain": [
       "'https://florida.craigslist.org/search/sss?search_distance=10&postal=33063&max_price=100'"
      ]
     },
     "execution_count": 23,
     "metadata": {},
     "output_type": "execute_result"
    }
   ],
   "source": [
    "url = \"https://{}.craigslist.org/search/sss?search_distance={}&postal={}&max_price={}\".format(location,radius,postal,max_price)   \n",
    "url"
   ]
  },
  {
   "cell_type": "code",
   "execution_count": null,
   "metadata": {},
   "outputs": [],
   "source": [
    "class craiglistScrapper(object):\n",
    "    def __init__(self, location, postal, max_price, radius):\n",
    "        self.location = location\n",
    "        self.postal = postal\n",
    "        self.max_price = max_price\n",
    "        self.radius = radius  \n",
    "        \n",
    "    self_url = \"https://{location}.craigslist.org/search/sss?search_distance={radius}&postal={postal}&max_price={max_price}\".format(location,postal,max_price,radius)    "
   ]
  }
 ],
 "metadata": {
  "kernelspec": {
   "display_name": "Python 3",
   "language": "python",
   "name": "python3"
  },
  "language_info": {
   "codemirror_mode": {
    "name": "ipython",
    "version": 3
   },
   "file_extension": ".py",
   "mimetype": "text/x-python",
   "name": "python",
   "nbconvert_exporter": "python",
   "pygments_lexer": "ipython3",
   "version": "3.7.4"
  }
 },
 "nbformat": 4,
 "nbformat_minor": 2
}
